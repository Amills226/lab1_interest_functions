{
  "nbformat": 4,
  "nbformat_minor": 0,
  "metadata": {
    "kernelspec": {
      "display_name": "Python 3",
      "language": "python",
      "name": "python3"
    },
    "language_info": {
      "codemirror_mode": {
        "name": "ipython",
        "version": 3
      },
      "file_extension": ".py",
      "mimetype": "text/x-python",
      "name": "python",
      "nbconvert_exporter": "python",
      "pygments_lexer": "ipython3",
      "version": "3.7.2"
    },
    "colab": {
      "name": "lab_1_interest_functions.ipynb",
      "provenance": [],
      "include_colab_link": true
    }
  },
  "cells": [
    {
      "cell_type": "markdown",
      "metadata": {
        "id": "view-in-github",
        "colab_type": "text"
      },
      "source": [
        "<a href=\"https://colab.research.google.com/github/Amills226/lab1_interest_functions/blob/master/lab_1_interest_functions.ipynb\" target=\"_parent\"><img src=\"https://colab.research.google.com/assets/colab-badge.svg\" alt=\"Open In Colab\"/></a>"
      ]
    },
    {
      "cell_type": "markdown",
      "metadata": {
        "id": "wRCnk2VWtszS",
        "colab_type": "text"
      },
      "source": [
        "## Lab 1 - Compound Interest Functions\n",
        "\n",
        "Below you will find a table of important formulae related to compound interest.  \n",
        "\n",
        "<img src=\"https://www.dummies.com/wp-content/uploads/251689.image0.jpg\" alt=\"image0.jpg\" width=\"400\" height=\"319\">\n",
        "\n",
        "In this lab, you will create functions for each of these using (and documenting) the following workflow.\n",
        "\n",
        "1. Work out the correct answer for a few examples. *Hint* Search for e.g. \"worked out compound interest examples\" on the web.\n",
        "2. Write a `lambda` function and test this function on your test cases.\n",
        "3. Convert the `lambda` function to a `def` statement with an informative doc string that follows the [Google formating rules](https://google.github.io/styleguide/pyguide.html#383-functions-and-methods).\n",
        "4. Write an automated test function (using your previous examples) that will test your `def` statement function each time the code is executed."
      ]
    },
    {
      "cell_type": "markdown",
      "metadata": {
        "id": "69Sq0k91tszU",
        "colab_type": "text"
      },
      "source": [
        "#### Problem 1 -- Apply the process to create a simple interest functions."
      ]
    },
    {
      "cell_type": "markdown",
      "metadata": {
        "id": "TFr7hNBDwGLu",
        "colab_type": "text"
      },
      "source": [
        "Simple Interest\n",
        "\n",
        "I=prt -> 20rt -> 20(0.5)t -> 20(0.5)10 = 100\n",
        "\n",
        "Compound Interest\n",
        "\n",
        "A=P(1 + r/n)^nt -> 20(1 + r/n)^nt -> 20(1 + 0.5/n)^nt -> 20(1 + 0.5/10)^10t -> 20(1 + 0.5/10)^10*1 -> 20(1 + 5)^10 -> 20(6)^10 -> 20 * 60466176 -> 1209323520\n",
        "\n",
        "Effective Rate\n",
        "\n",
        "(1 + r/n)^n -1 -> (1 + 0.5/n)^n -1 -> (1 + 0.5/10)^10 -1 -> (1 + 5)^10 -1 -> 6^10 -1 -> 6^10 -1 -> 60466176-1 -> 60466175 \n",
        "\n",
        "Amorized Loan Payment\n",
        "\n",
        "Pi/(1-(1 + i)^-n) -> 20i/(1-(1 + i)^-n) -> 20(0.5)/(1-(1 + 0.5)^-n) -> 20(0.5)/(1-(1 + 0.5)^-5) -> 10/(1-(1.5)^5) -> 10/(1-7.59375) -> 10/-6.59375 -> -1.516587677725118\n",
        "\n",
        "Remaining Balance\n",
        "\n",
        "R((1-(1+i)^-(n-x))/i) -> 10((1-(1+i)^-(n-x))/i) -> 10((1-(1+0.5)^-(n-x))/0.5) -> 10((1-(1+0.5)^-(10-5))/0.5) -> 10((1-(1.5)^-(10-5))/0.5) -> 10((1-(1.5)^-(5))/0.5) -> 10((1+7.59375)/0.5) ->10((8.59375)/0.5) -> 10((1+7.59375)/0.5) = 171.875"
      ]
    },
    {
      "cell_type": "code",
      "metadata": {
        "id": "ZtF54J8ytszX",
        "colab_type": "code",
        "colab": {},
        "outputId": "ddb7aaa2-7cac-4b4c-b60e-74428b16d88c"
      },
      "source": [
        ""
      ],
      "execution_count": null,
      "outputs": [
        {
          "output_type": "execute_result",
          "data": {
            "text/plain": [
              "'Your code here, insert more cells as needed'"
            ]
          },
          "metadata": {
            "tags": []
          },
          "execution_count": 1
        }
      ]
    },
    {
      "cell_type": "markdown",
      "metadata": {
        "id": "2Me1Mod7tszk",
        "colab_type": "text"
      },
      "source": [
        "#### Problem 2 -- Apply the process to create a compound interest functions."
      ]
    },
    {
      "cell_type": "code",
      "metadata": {
        "id": "1agNIUdJtszm",
        "colab_type": "code",
        "colab": {}
      },
      "source": [
        "principle = 20\n",
        "\n",
        "lambda "
      ],
      "execution_count": null,
      "outputs": []
    },
    {
      "cell_type": "markdown",
      "metadata": {
        "id": "e728yJRFtszy",
        "colab_type": "text"
      },
      "source": [
        "#### Problem 3 -- Apply the process to create a amortized loan payment function."
      ]
    },
    {
      "cell_type": "code",
      "metadata": {
        "id": "750TWBWKtszz",
        "colab_type": "code",
        "colab": {}
      },
      "source": [
        "\"Your code here, insert more cells as needed\""
      ],
      "execution_count": null,
      "outputs": []
    },
    {
      "cell_type": "markdown",
      "metadata": {
        "id": "DRPTZMHGtsz5",
        "colab_type": "text"
      },
      "source": [
        "#### Problem 4 -- Apply the process to create a remaining balance function"
      ]
    },
    {
      "cell_type": "code",
      "metadata": {
        "id": "G0C-oiIftsz6",
        "colab_type": "code",
        "colab": {}
      },
      "source": [
        "\"Your code here, insert more cells as needed\""
      ],
      "execution_count": null,
      "outputs": []
    }
  ]
}